{
  "nbformat": 4,
  "nbformat_minor": 0,
  "metadata": {
    "colab": {
      "provenance": [],
      "authorship_tag": "ABX9TyPZwHmH/Gclbv3WEg22/clw",
      "include_colab_link": true
    },
    "kernelspec": {
      "name": "python3",
      "display_name": "Python 3"
    },
    "language_info": {
      "name": "python"
    }
  },
  "cells": [
    {
      "cell_type": "markdown",
      "metadata": {
        "id": "view-in-github",
        "colab_type": "text"
      },
      "source": [
        "<a href=\"https://colab.research.google.com/github/devncasagrande/Metricas_de_Avaliacao/blob/main/M%C3%A9tricas_de_Avalia%C3%A7%C3%A3o.ipynb\" target=\"_parent\"><img src=\"https://colab.research.google.com/assets/colab-badge.svg\" alt=\"Open In Colab\"/></a>"
      ]
    },
    {
      "cell_type": "code",
      "execution_count": 1,
      "metadata": {
        "id": "_iyCgzDVt-zy"
      },
      "outputs": [],
      "source": [
        "# Atividade: Cálculo de Métricas de Avaliação de Classificação\n",
        "# Baseado na tabela de fórmulas passada pelo professor\n",
        "#\n",
        "# Fórmulas:\n",
        "# - Sensibilidade = VP / (VP + FN)\n",
        "# - Especificidade = VN / (FP + VN)\n",
        "# - Acurácia = (VP + VN) / N\n",
        "# - Precisão = VP / (VP + FP)\n",
        "# - F-score = 2 * (P * S) / (P + S)\n"
      ]
    },
    {
      "cell_type": "code",
      "source": [
        "# Definindo valores arbitrários da matriz de confusão\n",
        "VP = 50  # Verdadeiros Positivos\n",
        "VN = 40  # Verdadeiros Negativos\n",
        "FP = 10  # Falsos Positivos\n",
        "FN = 5   # Falsos Negativos\n",
        "\n",
        "# Total de elementos\n",
        "N = VP + VN + FP + FN\n"
      ],
      "metadata": {
        "id": "gMhXtibouDPQ"
      },
      "execution_count": 2,
      "outputs": []
    },
    {
      "cell_type": "code",
      "source": [
        "# Cálculo das métricas segundo a tabela\n",
        "\n",
        "sensibilidade = VP / (VP + FN)                # S\n",
        "especificidade = VN / (FP + VN)               # E\n",
        "acuracia = (VP + VN) / N                      # A\n",
        "precisao = VP / (VP + FP)                     # P\n",
        "f_score = 2 * (precisao * sensibilidade) / (precisao + sensibilidade)   # F1\n"
      ],
      "metadata": {
        "id": "rYntrqALuLFA"
      },
      "execution_count": 3,
      "outputs": []
    },
    {
      "cell_type": "code",
      "source": [
        "# Exibindo os resultados de forma organizada\n",
        "\n",
        "print(\"Matriz de Confusão:\")\n",
        "print(f\"VP: {VP}, FN: {FN}\")\n",
        "print(f\"FP: {FP}, VN: {VN}\")\n",
        "print(f\"Total de elementos (N): {N}\\n\")\n",
        "\n",
        "print(\"Métricas de Avaliação (Tabela do Professor):\")\n",
        "print(f\"Sensibilidade (Recall): {sensibilidade:.2f}\")\n",
        "print(f\"Especificidade:         {especificidade:.2f}\")\n",
        "print(f\"Acurácia:               {acuracia:.2f}\")\n",
        "print(f\"Precisão:               {precisao:.2f}\")\n",
        "print(f\"F-Score:                {f_score:.2f}\")\n"
      ],
      "metadata": {
        "colab": {
          "base_uri": "https://localhost:8080/"
        },
        "id": "qGaaub__uPT4",
        "outputId": "5ed49fd4-7789-4dee-e24b-9f13e00da3f1"
      },
      "execution_count": 4,
      "outputs": [
        {
          "output_type": "stream",
          "name": "stdout",
          "text": [
            "Matriz de Confusão:\n",
            "VP: 50, FN: 5\n",
            "FP: 10, VN: 40\n",
            "Total de elementos (N): 105\n",
            "\n",
            "Métricas de Avaliação (Tabela do Professor):\n",
            "Sensibilidade (Recall): 0.91\n",
            "Especificidade:         0.80\n",
            "Acurácia:               0.86\n",
            "Precisão:               0.83\n",
            "F-Score:                0.87\n"
          ]
        }
      ]
    }
  ]
}